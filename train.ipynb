{
 "cells": [
  {
   "cell_type": "code",
   "execution_count": 40,
   "metadata": {},
   "outputs": [],
   "source": [
    "# import required packages\n",
    "import cv2\n",
    "from keras.models import Sequential\n",
    "from keras.layers import Conv2D, MaxPooling2D, Dense, Dropout, Flatten\n",
    "from keras.optimizers import Adam\n",
    "from keras.preprocessing.image import ImageDataGenerator\n",
    "from keras import callbacks\n",
    "import matplotlib.pyplot as plt"
   ]
  },
  {
   "cell_type": "markdown",
   "metadata": {},
   "source": []
  },
  {
   "cell_type": "code",
   "execution_count": 41,
   "metadata": {},
   "outputs": [],
   "source": [
    "# Initialize image data generator with rescaling\n",
    "train_data_gen = ImageDataGenerator(rescale=1./255)\n",
    "validation_data_gen = ImageDataGenerator(rescale=1./255)"
   ]
  },
  {
   "cell_type": "code",
   "execution_count": 42,
   "metadata": {},
   "outputs": [
    {
     "name": "stdout",
     "output_type": "stream",
     "text": [
      "Found 33069 images belonging to 7 classes.\n",
      "Found 8288 images belonging to 7 classes.\n"
     ]
    }
   ],
   "source": [
    "# Preprocess all test images\n",
    "train_generator = train_data_gen.flow_from_directory(\n",
    "        'data/train',\n",
    "        target_size=(48, 48),\n",
    "        batch_size=64,\n",
    "        color_mode=\"grayscale\",\n",
    "        class_mode='categorical')\n",
    "\n",
    "# Preprocess all train images\n",
    "validation_generator = validation_data_gen.flow_from_directory(\n",
    "        'data/test',\n",
    "        target_size=(48, 48),\n",
    "        batch_size=64,\n",
    "        color_mode=\"grayscale\",\n",
    "        class_mode='categorical')\n"
   ]
  },
  {
   "cell_type": "code",
   "execution_count": 43,
   "metadata": {},
   "outputs": [],
   "source": [
    "# create model structure\n",
    "emotion_model = Sequential([\n",
    "Conv2D(32, kernel_size=(3, 3), activation='relu', input_shape=(48, 48, 1)),\n",
    "Conv2D(64, kernel_size=(3, 3), activation='relu'),\n",
    "MaxPooling2D(pool_size=(2, 2)),\n",
    "Dropout(0.25),\n",
    "\n",
    "Conv2D(128, kernel_size=(3, 3), activation='relu'),\n",
    "MaxPooling2D(pool_size=(2, 2)),\n",
    "Conv2D(128, kernel_size=(3, 3), activation='relu'),\n",
    "MaxPooling2D(pool_size=(2, 2)),\n",
    "Dropout(0.25),\n",
    "\n",
    "Flatten(),\n",
    "Dense(1024, activation='relu'),\n",
    "Dense(512, activation='relu'),\n",
    "Dropout(0.5),\n",
    "Dense(7, activation='softmax')\n",
    "])\n",
    "cv2.ocl.setUseOpenCL(False)"
   ]
  },
  {
   "cell_type": "code",
   "execution_count": 44,
   "metadata": {},
   "outputs": [],
   "source": [
    "#Early stopping\n",
    "mc = callbacks.ModelCheckpoint('best_model.h5', monitor='val_loss', mode='min', verbose=1, save_best_only=True)"
   ]
  },
  {
   "cell_type": "code",
   "execution_count": 45,
   "metadata": {},
   "outputs": [
    {
     "name": "stdout",
     "output_type": "stream",
     "text": [
      "Epoch 1/50\n"
     ]
    },
    {
     "name": "stderr",
     "output_type": "stream",
     "text": [
      "C:\\Users\\jmspa\\AppData\\Local\\Temp\\ipykernel_8336\\1962245180.py:4: UserWarning: `Model.fit_generator` is deprecated and will be removed in a future version. Please use `Model.fit`, which supports generators.\n",
      "  emotion_model_info = emotion_model.fit_generator(\n"
     ]
    },
    {
     "name": "stdout",
     "output_type": "stream",
     "text": [
      "516/516 [==============================] - ETA: 0s - loss: 1.7606 - accuracy: 0.3023\n",
      "Epoch 1: val_loss improved from inf to 1.53091, saving model to best_model.h5\n",
      "516/516 [==============================] - 99s 190ms/step - loss: 1.7606 - accuracy: 0.3023 - val_loss: 1.5309 - val_accuracy: 0.4293\n",
      "Epoch 2/50\n",
      "516/516 [==============================] - ETA: 0s - loss: 1.4299 - accuracy: 0.4573\n",
      "Epoch 2: val_loss improved from 1.53091 to 1.32618, saving model to best_model.h5\n",
      "516/516 [==============================] - 109s 212ms/step - loss: 1.4299 - accuracy: 0.4573 - val_loss: 1.3262 - val_accuracy: 0.5006\n",
      "Epoch 3/50\n",
      "516/516 [==============================] - ETA: 0s - loss: 1.3301 - accuracy: 0.4960\n",
      "Epoch 3: val_loss improved from 1.32618 to 1.26990, saving model to best_model.h5\n",
      "516/516 [==============================] - 103s 200ms/step - loss: 1.3301 - accuracy: 0.4960 - val_loss: 1.2699 - val_accuracy: 0.5165\n",
      "Epoch 4/50\n",
      "516/516 [==============================] - ETA: 0s - loss: 1.2665 - accuracy: 0.5251\n",
      "Epoch 4: val_loss improved from 1.26990 to 1.20817, saving model to best_model.h5\n",
      "516/516 [==============================] - 99s 192ms/step - loss: 1.2665 - accuracy: 0.5251 - val_loss: 1.2082 - val_accuracy: 0.5469\n",
      "Epoch 5/50\n",
      "516/516 [==============================] - ETA: 0s - loss: 1.2103 - accuracy: 0.5448\n",
      "Epoch 5: val_loss improved from 1.20817 to 1.16442, saving model to best_model.h5\n",
      "516/516 [==============================] - 100s 194ms/step - loss: 1.2103 - accuracy: 0.5448 - val_loss: 1.1644 - val_accuracy: 0.5610\n",
      "Epoch 6/50\n",
      "516/516 [==============================] - ETA: 0s - loss: 1.1642 - accuracy: 0.5595\n",
      "Epoch 6: val_loss improved from 1.16442 to 1.14483, saving model to best_model.h5\n",
      "516/516 [==============================] - 98s 190ms/step - loss: 1.1642 - accuracy: 0.5595 - val_loss: 1.1448 - val_accuracy: 0.5649\n",
      "Epoch 7/50\n",
      "516/516 [==============================] - ETA: 0s - loss: 1.1240 - accuracy: 0.5787\n",
      "Epoch 7: val_loss improved from 1.14483 to 1.08983, saving model to best_model.h5\n",
      "516/516 [==============================] - 96s 187ms/step - loss: 1.1240 - accuracy: 0.5787 - val_loss: 1.0898 - val_accuracy: 0.5876\n",
      "Epoch 8/50\n",
      "516/516 [==============================] - ETA: 0s - loss: 1.0844 - accuracy: 0.5936\n",
      "Epoch 8: val_loss improved from 1.08983 to 1.08438, saving model to best_model.h5\n",
      "516/516 [==============================] - 96s 186ms/step - loss: 1.0844 - accuracy: 0.5936 - val_loss: 1.0844 - val_accuracy: 0.5922\n",
      "Epoch 9/50\n",
      "516/516 [==============================] - ETA: 0s - loss: 1.0547 - accuracy: 0.6044\n",
      "Epoch 9: val_loss improved from 1.08438 to 1.04664, saving model to best_model.h5\n",
      "516/516 [==============================] - 97s 188ms/step - loss: 1.0547 - accuracy: 0.6044 - val_loss: 1.0466 - val_accuracy: 0.6037\n",
      "Epoch 10/50\n",
      "516/516 [==============================] - ETA: 0s - loss: 1.0209 - accuracy: 0.6195\n",
      "Epoch 10: val_loss did not improve from 1.04664\n",
      "516/516 [==============================] - 96s 187ms/step - loss: 1.0209 - accuracy: 0.6195 - val_loss: 1.0494 - val_accuracy: 0.6089\n",
      "Epoch 11/50\n",
      "516/516 [==============================] - ETA: 0s - loss: 0.9846 - accuracy: 0.6326\n",
      "Epoch 11: val_loss improved from 1.04664 to 1.00234, saving model to best_model.h5\n",
      "516/516 [==============================] - 97s 189ms/step - loss: 0.9846 - accuracy: 0.6326 - val_loss: 1.0023 - val_accuracy: 0.6255\n",
      "Epoch 12/50\n",
      "516/516 [==============================] - ETA: 0s - loss: 0.9557 - accuracy: 0.6437\n",
      "Epoch 12: val_loss improved from 1.00234 to 0.99231, saving model to best_model.h5\n",
      "516/516 [==============================] - 100s 194ms/step - loss: 0.9557 - accuracy: 0.6437 - val_loss: 0.9923 - val_accuracy: 0.6277\n",
      "Epoch 13/50\n",
      "516/516 [==============================] - ETA: 0s - loss: 0.9266 - accuracy: 0.6553\n",
      "Epoch 13: val_loss improved from 0.99231 to 0.97722, saving model to best_model.h5\n",
      "516/516 [==============================] - 106s 205ms/step - loss: 0.9266 - accuracy: 0.6553 - val_loss: 0.9772 - val_accuracy: 0.6375\n",
      "Epoch 14/50\n",
      "516/516 [==============================] - ETA: 0s - loss: 0.8959 - accuracy: 0.6664\n",
      "Epoch 14: val_loss improved from 0.97722 to 0.96510, saving model to best_model.h5\n",
      "516/516 [==============================] - 99s 193ms/step - loss: 0.8959 - accuracy: 0.6664 - val_loss: 0.9651 - val_accuracy: 0.6399\n",
      "Epoch 15/50\n",
      "516/516 [==============================] - ETA: 0s - loss: 0.8640 - accuracy: 0.6819\n",
      "Epoch 15: val_loss improved from 0.96510 to 0.96092, saving model to best_model.h5\n",
      "516/516 [==============================] - 96s 186ms/step - loss: 0.8640 - accuracy: 0.6819 - val_loss: 0.9609 - val_accuracy: 0.6457\n",
      "Epoch 16/50\n",
      "516/516 [==============================] - ETA: 0s - loss: 0.8290 - accuracy: 0.6924\n",
      "Epoch 16: val_loss did not improve from 0.96092\n",
      "516/516 [==============================] - 95s 185ms/step - loss: 0.8290 - accuracy: 0.6924 - val_loss: 0.9662 - val_accuracy: 0.6443\n",
      "Epoch 17/50\n",
      "516/516 [==============================] - ETA: 0s - loss: 0.7989 - accuracy: 0.7078\n",
      "Epoch 17: val_loss improved from 0.96092 to 0.94177, saving model to best_model.h5\n",
      "516/516 [==============================] - 87s 169ms/step - loss: 0.7989 - accuracy: 0.7078 - val_loss: 0.9418 - val_accuracy: 0.6537\n",
      "Epoch 18/50\n",
      "516/516 [==============================] - ETA: 0s - loss: 0.7569 - accuracy: 0.7209\n",
      "Epoch 18: val_loss did not improve from 0.94177\n",
      "516/516 [==============================] - 86s 167ms/step - loss: 0.7569 - accuracy: 0.7209 - val_loss: 0.9471 - val_accuracy: 0.6592\n",
      "Epoch 19/50\n",
      "516/516 [==============================] - ETA: 0s - loss: 0.7284 - accuracy: 0.7327\n",
      "Epoch 19: val_loss did not improve from 0.94177\n",
      "516/516 [==============================] - 86s 166ms/step - loss: 0.7284 - accuracy: 0.7327 - val_loss: 0.9451 - val_accuracy: 0.6578\n",
      "Epoch 20/50\n",
      "516/516 [==============================] - ETA: 0s - loss: 0.6902 - accuracy: 0.7481\n",
      "Epoch 20: val_loss did not improve from 0.94177\n",
      "516/516 [==============================] - 86s 167ms/step - loss: 0.6902 - accuracy: 0.7481 - val_loss: 0.9574 - val_accuracy: 0.6588\n",
      "Epoch 21/50\n",
      "516/516 [==============================] - ETA: 0s - loss: 0.6543 - accuracy: 0.7634\n",
      "Epoch 21: val_loss did not improve from 0.94177\n",
      "516/516 [==============================] - 85s 165ms/step - loss: 0.6543 - accuracy: 0.7634 - val_loss: 0.9531 - val_accuracy: 0.6579\n",
      "Epoch 22/50\n",
      "516/516 [==============================] - ETA: 0s - loss: 0.6138 - accuracy: 0.7780\n",
      "Epoch 22: val_loss did not improve from 0.94177\n",
      "516/516 [==============================] - 86s 166ms/step - loss: 0.6138 - accuracy: 0.7780 - val_loss: 0.9539 - val_accuracy: 0.6646\n",
      "Epoch 23/50\n",
      "516/516 [==============================] - ETA: 0s - loss: 0.5726 - accuracy: 0.7948\n",
      "Epoch 23: val_loss did not improve from 0.94177\n",
      "516/516 [==============================] - 85s 165ms/step - loss: 0.5726 - accuracy: 0.7948 - val_loss: 0.9697 - val_accuracy: 0.6662\n",
      "Epoch 24/50\n",
      "516/516 [==============================] - ETA: 0s - loss: 0.5399 - accuracy: 0.8053 \n",
      "Epoch 24: val_loss did not improve from 0.94177\n",
      "516/516 [==============================] - 17793s 35s/step - loss: 0.5399 - accuracy: 0.8053 - val_loss: 1.0080 - val_accuracy: 0.6623\n",
      "Epoch 25/50\n",
      "516/516 [==============================] - ETA: 0s - loss: 0.4964 - accuracy: 0.8215\n",
      "Epoch 25: val_loss did not improve from 0.94177\n",
      "516/516 [==============================] - 97s 189ms/step - loss: 0.4964 - accuracy: 0.8215 - val_loss: 1.0085 - val_accuracy: 0.6607\n",
      "Epoch 26/50\n",
      "516/516 [==============================] - ETA: 0s - loss: 0.4633 - accuracy: 0.8347\n",
      "Epoch 26: val_loss did not improve from 0.94177\n",
      "516/516 [==============================] - 98s 190ms/step - loss: 0.4633 - accuracy: 0.8347 - val_loss: 1.0126 - val_accuracy: 0.6695\n",
      "Epoch 27/50\n",
      "516/516 [==============================] - ETA: 0s - loss: 0.4310 - accuracy: 0.8473\n",
      "Epoch 27: val_loss did not improve from 0.94177\n",
      "516/516 [==============================] - 100s 194ms/step - loss: 0.4310 - accuracy: 0.8473 - val_loss: 1.0317 - val_accuracy: 0.6674\n",
      "Epoch 28/50\n",
      "516/516 [==============================] - ETA: 0s - loss: 0.3991 - accuracy: 0.8559\n",
      "Epoch 28: val_loss did not improve from 0.94177\n",
      "516/516 [==============================] - 101s 196ms/step - loss: 0.3991 - accuracy: 0.8559 - val_loss: 1.0968 - val_accuracy: 0.6622\n",
      "Epoch 29/50\n",
      "516/516 [==============================] - ETA: 0s - loss: 0.3701 - accuracy: 0.8692\n",
      "Epoch 29: val_loss did not improve from 0.94177\n",
      "516/516 [==============================] - 90s 175ms/step - loss: 0.3701 - accuracy: 0.8692 - val_loss: 1.0741 - val_accuracy: 0.6605\n",
      "Epoch 30/50\n",
      "516/516 [==============================] - ETA: 0s - loss: 0.3399 - accuracy: 0.8806\n",
      "Epoch 30: val_loss did not improve from 0.94177\n",
      "516/516 [==============================] - 98s 190ms/step - loss: 0.3399 - accuracy: 0.8806 - val_loss: 1.1288 - val_accuracy: 0.6655\n",
      "Epoch 31/50\n",
      "516/516 [==============================] - ETA: 0s - loss: 0.3135 - accuracy: 0.8887\n",
      "Epoch 31: val_loss did not improve from 0.94177\n",
      "516/516 [==============================] - 106s 206ms/step - loss: 0.3135 - accuracy: 0.8887 - val_loss: 1.1516 - val_accuracy: 0.6685\n",
      "Epoch 32/50\n",
      "516/516 [==============================] - ETA: 0s - loss: 0.2898 - accuracy: 0.8986\n",
      "Epoch 32: val_loss did not improve from 0.94177\n",
      "516/516 [==============================] - 103s 200ms/step - loss: 0.2898 - accuracy: 0.8986 - val_loss: 1.1701 - val_accuracy: 0.6668\n",
      "Epoch 33/50\n",
      "516/516 [==============================] - ETA: 0s - loss: 0.2655 - accuracy: 0.9070\n",
      "Epoch 33: val_loss did not improve from 0.94177\n",
      "516/516 [==============================] - 106s 206ms/step - loss: 0.2655 - accuracy: 0.9070 - val_loss: 1.2165 - val_accuracy: 0.6688\n",
      "Epoch 34/50\n",
      "516/516 [==============================] - ETA: 0s - loss: 0.2496 - accuracy: 0.9138\n",
      "Epoch 34: val_loss did not improve from 0.94177\n",
      "516/516 [==============================] - 104s 201ms/step - loss: 0.2496 - accuracy: 0.9138 - val_loss: 1.2219 - val_accuracy: 0.6629\n",
      "Epoch 35/50\n",
      "516/516 [==============================] - ETA: 0s - loss: 0.2322 - accuracy: 0.9190\n",
      "Epoch 35: val_loss did not improve from 0.94177\n",
      "516/516 [==============================] - 93s 180ms/step - loss: 0.2322 - accuracy: 0.9190 - val_loss: 1.2403 - val_accuracy: 0.6612\n",
      "Epoch 36/50\n",
      "516/516 [==============================] - ETA: 0s - loss: 0.2154 - accuracy: 0.9239\n",
      "Epoch 36: val_loss did not improve from 0.94177\n",
      "516/516 [==============================] - 97s 189ms/step - loss: 0.2154 - accuracy: 0.9239 - val_loss: 1.3059 - val_accuracy: 0.6588\n",
      "Epoch 37/50\n",
      "516/516 [==============================] - ETA: 0s - loss: 0.1961 - accuracy: 0.9317\n",
      "Epoch 37: val_loss did not improve from 0.94177\n",
      "516/516 [==============================] - 93s 181ms/step - loss: 0.1961 - accuracy: 0.9317 - val_loss: 1.2825 - val_accuracy: 0.6665\n",
      "Epoch 38/50\n",
      "516/516 [==============================] - ETA: 0s - loss: 0.1870 - accuracy: 0.9342\n",
      "Epoch 38: val_loss did not improve from 0.94177\n",
      "516/516 [==============================] - 94s 182ms/step - loss: 0.1870 - accuracy: 0.9342 - val_loss: 1.3722 - val_accuracy: 0.6718\n",
      "Epoch 39/50\n",
      "516/516 [==============================] - ETA: 0s - loss: 0.1717 - accuracy: 0.9406\n",
      "Epoch 39: val_loss did not improve from 0.94177\n",
      "516/516 [==============================] - 92s 178ms/step - loss: 0.1717 - accuracy: 0.9406 - val_loss: 1.4099 - val_accuracy: 0.6655\n",
      "Epoch 40/50\n",
      "516/516 [==============================] - ETA: 0s - loss: 0.1675 - accuracy: 0.9420\n",
      "Epoch 40: val_loss did not improve from 0.94177\n",
      "516/516 [==============================] - 96s 185ms/step - loss: 0.1675 - accuracy: 0.9420 - val_loss: 1.4122 - val_accuracy: 0.6676\n",
      "Epoch 41/50\n",
      "516/516 [==============================] - ETA: 0s - loss: 0.1557 - accuracy: 0.9467\n",
      "Epoch 41: val_loss did not improve from 0.94177\n",
      "516/516 [==============================] - 89s 173ms/step - loss: 0.1557 - accuracy: 0.9467 - val_loss: 1.4210 - val_accuracy: 0.6686\n",
      "Epoch 42/50\n",
      "516/516 [==============================] - ETA: 0s - loss: 0.1454 - accuracy: 0.9506\n",
      "Epoch 42: val_loss did not improve from 0.94177\n",
      "516/516 [==============================] - 99s 192ms/step - loss: 0.1454 - accuracy: 0.9506 - val_loss: 1.4961 - val_accuracy: 0.6618\n",
      "Epoch 43/50\n",
      "516/516 [==============================] - ETA: 0s - loss: 0.1435 - accuracy: 0.9503\n",
      "Epoch 43: val_loss did not improve from 0.94177\n",
      "516/516 [==============================] - 104s 202ms/step - loss: 0.1435 - accuracy: 0.9503 - val_loss: 1.4694 - val_accuracy: 0.6696\n",
      "Epoch 44/50\n",
      "516/516 [==============================] - ETA: 0s - loss: 0.1338 - accuracy: 0.9536\n",
      "Epoch 44: val_loss did not improve from 0.94177\n",
      "516/516 [==============================] - 114s 221ms/step - loss: 0.1338 - accuracy: 0.9536 - val_loss: 1.4908 - val_accuracy: 0.6607\n",
      "Epoch 45/50\n",
      "516/516 [==============================] - ETA: 0s - loss: 0.1254 - accuracy: 0.9576\n",
      "Epoch 45: val_loss did not improve from 0.94177\n",
      "516/516 [==============================] - 110s 213ms/step - loss: 0.1254 - accuracy: 0.9576 - val_loss: 1.5235 - val_accuracy: 0.6687\n",
      "Epoch 46/50\n",
      "516/516 [==============================] - ETA: 0s - loss: 0.1229 - accuracy: 0.9580\n",
      "Epoch 46: val_loss did not improve from 0.94177\n",
      "516/516 [==============================] - 109s 212ms/step - loss: 0.1229 - accuracy: 0.9580 - val_loss: 1.5264 - val_accuracy: 0.6657\n",
      "Epoch 47/50\n",
      "516/516 [==============================] - ETA: 0s - loss: 0.1095 - accuracy: 0.9635\n",
      "Epoch 47: val_loss did not improve from 0.94177\n",
      "516/516 [==============================] - 103s 200ms/step - loss: 0.1095 - accuracy: 0.9635 - val_loss: 1.6009 - val_accuracy: 0.6639\n",
      "Epoch 48/50\n",
      "516/516 [==============================] - ETA: 0s - loss: 0.1121 - accuracy: 0.9624\n",
      "Epoch 48: val_loss did not improve from 0.94177\n",
      "516/516 [==============================] - 103s 200ms/step - loss: 0.1121 - accuracy: 0.9624 - val_loss: 1.5425 - val_accuracy: 0.6701\n",
      "Epoch 49/50\n",
      "516/516 [==============================] - ETA: 0s - loss: 0.1046 - accuracy: 0.9653\n",
      "Epoch 49: val_loss did not improve from 0.94177\n",
      "516/516 [==============================] - 102s 197ms/step - loss: 0.1046 - accuracy: 0.9653 - val_loss: 1.5672 - val_accuracy: 0.6604\n",
      "Epoch 50/50\n",
      "516/516 [==============================] - ETA: 0s - loss: 0.1023 - accuracy: 0.9656\n",
      "Epoch 50: val_loss did not improve from 0.94177\n",
      "516/516 [==============================] - 106s 204ms/step - loss: 0.1023 - accuracy: 0.9656 - val_loss: 1.5566 - val_accuracy: 0.6699\n"
     ]
    }
   ],
   "source": [
    "emotion_model.compile(loss='categorical_crossentropy', optimizer=Adam(lr=0.0001, decay=1e-6), metrics=['accuracy'])\n",
    "\n",
    "# Train the neural network/model\n",
    "emotion_model_info = emotion_model.fit_generator(\n",
    "        train_generator,\n",
    "        steps_per_epoch=33069 // 64,\n",
    "        epochs=50,\n",
    "        validation_data=validation_generator,\n",
    "        validation_steps=8288 // 64,\n",
    "        callbacks=[mc]\n",
    "        )"
   ]
  },
  {
   "cell_type": "code",
   "execution_count": 46,
   "metadata": {},
   "outputs": [],
   "source": [
    "# save model structure in jason file\n",
    "model_json = emotion_model.to_json()\n",
    "with open(\"emotion_model.json\", \"w\") as json_file:\n",
    "    json_file.write(model_json)\n",
    "\n",
    "# save trained model weight in .h5 file\n",
    "emotion_model.save_weights('emotion_model.h5')"
   ]
  },
  {
   "cell_type": "code",
   "execution_count": 48,
   "metadata": {},
   "outputs": [
    {
     "name": "stdout",
     "output_type": "stream",
     "text": [
      "[1.7605910301208496, 1.4299427270889282, 1.3301132917404175, 1.2664648294448853, 1.210268259048462, 1.164241909980774, 1.123976469039917, 1.0844310522079468, 1.0546663999557495, 1.0208613872528076, 0.9846370220184326, 0.9556674361228943, 0.926559567451477, 0.8958509564399719, 0.8640029430389404, 0.8289546966552734, 0.7988741993904114, 0.7569180727005005, 0.7283504009246826, 0.6901862621307373, 0.6542965173721313, 0.6138055324554443, 0.5725955367088318, 0.5398572683334351, 0.4963679313659668, 0.46326014399528503, 0.43104684352874756, 0.3991186022758484, 0.3700513243675232, 0.33987870812416077, 0.3135412335395813, 0.28983983397483826, 0.2654801309108734, 0.24964796006679535, 0.23223425447940826, 0.21538753807544708, 0.19607961177825928, 0.1869802623987198, 0.1717437356710434, 0.16750197112560272, 0.15568239986896515, 0.145392045378685, 0.1434730738401413, 0.13384473323822021, 0.1254008263349533, 0.12285693734884262, 0.10949548333883286, 0.11208035796880722, 0.10458659380674362, 0.10234683007001877]\n"
     ]
    },
    {
     "data": {
      "image/png": "[encoded data removed]",
      "text/plain": [
       "<Figure size 864x288 with 2 Axes>"
      ]
     },
     "metadata": {
      "needs_background": "light"
     },
     "output_type": "display_data"
    }
   ],
   "source": [
    "\n",
    "fig , ax = plt.subplots(1,2)\n",
    "print(emotion_model_info.history['loss'])\n",
    "train_acc = emotion_model_info.history['accuracy']\n",
    "train_loss = emotion_model_info.history['loss']\n",
    "fig.set_size_inches(12,4)\n",
    "\n",
    "ax[0].plot(emotion_model_info.history['accuracy'])\n",
    "ax[0].plot(emotion_model_info.history['val_accuracy'])\n",
    "ax[0].set_title('Training Accuracy vs Validation Accuracy')\n",
    "ax[0].set_ylabel('Accuracy')\n",
    "ax[0].set_xlabel('Epoch')\n",
    "ax[0].legend(['Train', 'Validation'], loc='upper left')\n",
    "\n",
    "ax[1].plot(emotion_model_info.history['loss'])\n",
    "ax[1].plot(emotion_model_info.history['val_loss'])\n",
    "ax[1].set_title('Training Loss vs Validation Loss')\n",
    "ax[1].set_ylabel('Loss')\n",
    "ax[1].set_xlabel('Epoch')\n",
    "ax[1].legend(['Train', 'Validation'], loc='upper left')\n",
    "\n",
    "plt.show()"
   ]
  },
  {
   "cell_type": "code",
   "execution_count": 51,
   "metadata": {},
   "outputs": [
    {
     "name": "stdout",
     "output_type": "stream",
     "text": [
      "16\n"
     ]
    }
   ],
   "source": [
    "print(emotion_model_info.history['val_loss'].index(min(emotion_model_info.history['val_loss'])))"
   ]
  },
  {
   "cell_type": "code",
   "execution_count": 55,
   "metadata": {},
   "outputs": [
    {
     "name": "stdout",
     "output_type": "stream",
     "text": [
      "0.7077715396881104\n",
      "0.7988741993904114\n",
      "0.6537063717842102\n",
      "0.9417711496353149\n"
     ]
    }
   ],
   "source": [
    "print(emotion_model_info.history['accuracy'][16])\n",
    "print(emotion_model_info.history['loss'][16])\n",
    "print(emotion_model_info.history['val_accuracy'][16])\n",
    "print(emotion_model_info.history['val_loss'][16])"
   ]
  },
  {
   "cell_type": "code",
   "execution_count": null,
   "metadata": {},
   "outputs": [],
   "source": []
  }
 ],
 "metadata": {
  "kernelspec": {
   "display_name": "Python 3.9.7 64-bit",
   "language": "python",
   "name": "python3"
  },
  "language_info": {
   "codemirror_mode": {
    "name": "ipython",
    "version": 3
   },
   "file_extension": ".py",
   "mimetype": "text/x-python",
   "name": "python",
   "nbconvert_exporter": "python",
   "pygments_lexer": "ipython3",
   "version": "3.9.7"
  },
  "orig_nbformat": 4,
  "vscode": {
   "interpreter": {
    "hash": "375b63657050edd84435af591d17deaefca974858a9d0bc59a8e9dddbf9bdfbe"
   }
  }
 },
 "nbformat": 4,
 "nbformat_minor": 2
}
